{
 "cells": [
  {
   "cell_type": "code",
   "execution_count": null,
   "id": "eaec5d19-68ef-4f22-931c-bc8a075ecb0d",
   "metadata": {},
   "outputs": [],
   "source": []
  }
 ],
 "metadata": {
  "kernelspec": {
   "display_name": "",
   "name": ""
  },
  "language_info": {
   "name": ""
  }
 },
 "nbformat": 4,
 "nbformat_minor": 5
}
